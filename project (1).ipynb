{
 "cells": [
  {
   "cell_type": "markdown",
   "metadata": {
    "tags": []
   },
   "source": [
    "# Rickie's Sweater Pattern Generator\n",
    "\n",
    "This is a Python knitting pattern generator. It creates patterns for classic knit sweaters with a loose fit, which are based on inputted measurements and style choices. It accepts chest circumference measurements from 24 in to 67 in and torso length measurements from 16 in to 29 in."
   ]
  },
  {
   "cell_type": "markdown",
   "metadata": {},
   "source": [
    "### Imports\n",
    "\n",
    "The packages ipywidgets, interact_manual, numpy, and math must be imported for this pattern generator code to work."
   ]
  },
  {
   "cell_type": "code",
   "execution_count": 68,
   "metadata": {},
   "outputs": [],
   "source": [
    "import ipywidgets as widgets\n",
    "from ipywidgets import interact_manual\n",
    "import numpy as np\n",
    "import math"
   ]
  },
  {
   "cell_type": "markdown",
   "metadata": {},
   "source": [
    "### Size Dictionaries\n",
    "\n",
    "In garment creation there are 2 kinds of sizing: straight sizing and fit sizing. When something is straight sized, that means that every size option for a finished piece will have the same proportions, just at different scales. This type of sizing is standard in the fashion industry and the knitting community because it is simplest to write patterns for. However, this sizing does not reflect the actual proportions of a human body. This generator uses fit sizing, but it began as a straight sized pattern I wrote.\n",
    "\n",
    "That pattern has 11 sizes and each of those sizes have corresponding finished chest and torso dimensions. For my fit sized pattern, I may mix and match the instructions for a chest circumference of one size with the instructions of a torso length for another. Below are a series of dictionaries which hold the values for each size and their finished measurements. This has been included for easy referencing of the straight size finished measurement values."
   ]
  },
  {
   "cell_type": "code",
   "execution_count": 69,
   "metadata": {},
   "outputs": [],
   "source": [
    "one_dict = {\"finished chest\":32, \"finished torso\":25.5, \"size\": 1}\n",
    "two_dict = {\"finished chest\":36, \"finished torso\":26, \"size\": 2}\n",
    "three_dict = {\"finished chest\":40, \"finished torso\":26.5, \"size\": 3}\n",
    "four_dict = {\"finished chest\":44, \"finished torso\":27, \"size\": 4}\n",
    "five_dict = {\"finished chest\":48, \"finished torso\":27.5, \"size\": 5}\n",
    "six_dict = {\"finished chest\":52, \"finished torso\":28, \"size\": 6}\n",
    "seven_dict = {\"finished chest\":56, \"finished torso\":28.5, \"size\": 7}\n",
    "eight_dict = {\"finished chest\":60, \"finished torso\":29, \"size\": 8}\n",
    "nine_dict = {\"finished chest\":64, \"finished torso\":29.5, \"size\": 9}\n",
    "ten_dict = {\"finished chest\":68, \"finished torso\":30, \"size\": 10}\n",
    "eleven_dict = {\"finished chest\":72, \"finished torso\":30.5, \"size\": 11}"
   ]
  },
  {
   "cell_type": "markdown",
   "metadata": {},
   "source": [
    "### Sizing Functions\n",
    "\n",
    "The chest and torso sizes for this function are discrete, rather than continuous variables. However, the users are free to input their measurements up to a hundredth of accuracy. These sizing functions match a user’s measurement to the most appropriate chest and torso size. \n",
    "\n",
    "The function works by iterating over the thresholds list. For each threshold, it checks if the given torso_length is less than the threshold value.\n",
    "Once a threshold is found that the torso_length is less than, the corresponding dictionary is selected from the dictionaries list.\n",
    "The function then returns the \"finished torso\" value from the selected dictionary, which represents the final torso length of the garment."
   ]
  },
  {
   "cell_type": "code",
   "execution_count": 70,
   "metadata": {},
   "outputs": [],
   "source": [
    "def chest_sizing_output(chest_circumference):\n",
    "    thresholds = [28, 32, 36, 40, 44, 48, 52, 56, 60, 64, 67]\n",
    "    dictionaries = [one_dict, two_dict, three_dict, four_dict, five_dict, six_dict, \n",
    "                   seven_dict, eight_dict, nine_dict, ten_dict, eleven_dict]\n",
    "    \n",
    "    for i, threshold in enumerate(thresholds):\n",
    "        if chest_circumference < threshold:\n",
    "            garment_chest_measurement = dictionaries[i][\"finished chest\"]\n",
    "            return garment_chest_measurement\n",
    "\n",
    "def torso_sizing_output(torso_length):\n",
    "    thresholds = [21.6, 22.1, 22.6, 23.1, 23.6, 24.1, 24.6, 25.1, 25.6, 26.1, 29]\n",
    "    dictionaries = [one_dict, two_dict, three_dict, four_dict, five_dict, six_dict, \n",
    "                   seven_dict, eight_dict, nine_dict, ten_dict, eleven_dict]\n",
    "    \n",
    "    for i, threshold in enumerate(thresholds):\n",
    "        if torso_length < threshold:\n",
    "            garment_torso_measurement = dictionaries[i][\"finished torso\"]\n",
    "            return garment_torso_measurement"
   ]
  },
  {
   "cell_type": "markdown",
   "metadata": {},
   "source": [
    "#### Back Panel Cast On Function\n",
    "\n",
    "This function calculates the number of stitches needed to cast on for the back of the garment."
   ]
  },
  {
   "cell_type": "code",
   "execution_count": 71,
   "metadata": {},
   "outputs": [],
   "source": [
    "def back_cast_on_st_ct(chest_sizing_var):\n",
    "    n = (chest_sizing_var - 32) / 4\n",
    "    back_co_ct = 81 + (10 * n)\n",
    "    return (back_co_ct)"
   ]
  },
  {
   "cell_type": "markdown",
   "metadata": {},
   "source": [
    "#### Back Panel First Bind Off Stitches\n",
    "\n",
    "This function returns the number of stitches the knitter will need to cast off when they reach the point where they need to start shaping the armholes for the back panel. It uses a dictionary which links completed chest measurements to numbers of stitches to bind off, and it returns the smallest value (2) as the default."
   ]
  },
  {
   "cell_type": "code",
   "execution_count": 72,
   "metadata": {},
   "outputs": [],
   "source": [
    "def get_bind_off_stitches(garment_chest_measurement):\n",
    "    bind_off_dict = {\n",
    "        32: 2,\n",
    "        36: 3,\n",
    "        40: 4,\n",
    "        44: 5,\n",
    "        48: 6,\n",
    "        52: 7,\n",
    "        56: 8,\n",
    "        60: 9,\n",
    "        64: 10,\n",
    "        68: 11,\n",
    "        72: 12\n",
    "    }\n",
    "    \n",
    "    return bind_off_dict.get(garment_chest_measurement, 2)"
   ]
  },
  {
   "cell_type": "markdown",
   "metadata": {},
   "source": [
    "#### Back Panel Stitch Count After First Bind Off\n",
    "\n",
    "This function calculates the number of stitches the back panel will have immediately after the first block of decreases (bind offs). "
   ]
  },
  {
   "cell_type": "code",
   "execution_count": 73,
   "metadata": {},
   "outputs": [],
   "source": [
    "def get_stitch_count_after_bind_off(cast_on_stitches, bind_off_stitches):\n",
    "    return cast_on_stitches - (2 * bind_off_stitches)"
   ]
  },
  {
   "cell_type": "markdown",
   "metadata": {},
   "source": [
    "#### Back Panel Main Decrease Section Repeat Count\n",
    "\n",
    "This function returns the number of times the knitter will need to repeat a decrease row. It uses a dictionary which links completed chest measurements to numbers of repeats make, and it returns the smallest value (1) as the default."
   ]
  },
  {
   "cell_type": "code",
   "execution_count": 74,
   "metadata": {},
   "outputs": [],
   "source": [
    "def determine_repeat_count(garment_chest_measurement):\n",
    "    repeat_count_dict = {\n",
    "        32: 1,   \n",
    "        36: 3,   \n",
    "        40: 4,   \n",
    "        44: 6,   \n",
    "        48: 7,   \n",
    "        52: 9,    \n",
    "        56: 10,  \n",
    "        60: 12, \n",
    "        64: 13,  \n",
    "        68: 15,  \n",
    "        72: 16    \n",
    "    }\n",
    "    return repeat_count_dict.get(garment_chest_measurement, 1)"
   ]
  },
  {
   "cell_type": "markdown",
   "metadata": {},
   "source": [
    "#### Stitches Left After the Main Decrease Section\n",
    "\n",
    "This function calculates the number of stitches the back panel will have following the main section of decreases."
   ]
  },
  {
   "cell_type": "code",
   "execution_count": 75,
   "metadata": {},
   "outputs": [],
   "source": [
    "def remaining_stitches_after_decreases(stitch_count_after_bind_off, repeat_count):\n",
    "    return stitch_count_after_bind_off - (2 * repeat_count)"
   ]
  },
  {
   "cell_type": "markdown",
   "metadata": {},
   "source": [
    "#### Armhole Length After Working Even\n",
    "\n",
    "This function returns the length that the armholes will measure after working even across the decreased section. It uses the dictionary armhole_length_dict to map torso measurements to known armhole lengths. It returns the smallest value (8.5) as the default."
   ]
  },
  {
   "cell_type": "code",
   "execution_count": 76,
   "metadata": {},
   "outputs": [],
   "source": [
    "def armhole_length_after_working_even(garment_torso_measurement):\n",
    "    armhole_length_dict = {\n",
    "        25.5: 8.5, 26: 9, 26.6: 9.5, 27: 10, 27.5: 10.5, 28: 11, 28.5: 11.5,\n",
    "        29: 12, 29.5: 12.5, 30: 13, 30.5: 13.5\n",
    "    }\n",
    "    \n",
    "    for threshold in sorted(armhole_length_dict.keys(), reverse=True):\n",
    "        if garment_torso_measurement >= threshold:\n",
    "            return armhole_length_dict[threshold]\n",
    "    return 8.5"
   ]
  },
  {
   "cell_type": "markdown",
   "metadata": {},
   "source": [
    "#### First Bind Off of the Back Shoulder Section\n",
    "\n",
    "This function returns the number of stitches to bind off at the beginning of shaping the shoulder. It uses the dictionary first_decrease_dict to map chest measurements to decrease values. It returns the smallest value (5) as the default."
   ]
  },
  {
   "cell_type": "code",
   "execution_count": 77,
   "metadata": {},
   "outputs": [],
   "source": [
    "def first_shoulder_bind_off_stitches(garment_chest_measurement):\n",
    "    first_decrease_dict = {\n",
    "        32: 5,   \n",
    "        36: 6,   \n",
    "        40: 8,   \n",
    "        44: 9,   \n",
    "        48: 9,   \n",
    "        52: 10,  \n",
    "        56: 10,  \n",
    "        60: 11,  \n",
    "        64: 11,  \n",
    "        68: 13,  \n",
    "        72: 14   \n",
    "    }\n",
    "    \n",
    "    return first_decrease_dict.get(garment_chest_measurement, 5)"
   ]
  },
  {
   "cell_type": "markdown",
   "metadata": {},
   "source": [
    "#### Second Bind Off of the Back Shoulder Section \n",
    "\n",
    "This function calculates how many stitches the knitter should bind off during theri second decrease of the shoulder section. "
   ]
  },
  {
   "cell_type": "code",
   "execution_count": 78,
   "metadata": {},
   "outputs": [],
   "source": [
    "def second_shoulder_bind_off_stitches(remaining_stitches, first_decrease_amount):\n",
    "    second_decrease_amount = ((remaining_stitches - 2 * first_decrease_amount - 41) / 4)\n",
    "    return int(second_decrease_amount)"
   ]
  },
  {
   "cell_type": "markdown",
   "metadata": {},
   "source": [
    "#### Length of Front Panel Armholes\n",
    "\n",
    "This function calculates the length that the armholes on the panel will measure"
   ]
  },
  {
   "cell_type": "code",
   "execution_count": 79,
   "metadata": {},
   "outputs": [],
   "source": [
    "def front_armhole_length(armhole_length):\n",
    "    return armhole_length - 2"
   ]
  },
  {
   "cell_type": "markdown",
   "metadata": {},
   "source": [
    "#### Stitches Remaining on Either Side of the Markers\n",
    "\n",
    "This function calculates the number of stitches which will be left on either side of the markers when the knitter begins shaping the neck on the front panel."
   ]
  },
  {
   "cell_type": "code",
   "execution_count": 80,
   "metadata": {},
   "outputs": [],
   "source": [
    "def stitches_on_each_side_of_markers(remaining_stitches):\n",
    "    return (remaining_stitches - 29) // 2"
   ]
  },
  {
   "cell_type": "markdown",
   "metadata": {},
   "source": [
    "#### Stitches Remaining After Front Shoulder Section Decreases\n",
    "\n",
    "This function calculates how many stitches the shoulder section will have after the decreases on that section."
   ]
  },
  {
   "cell_type": "code",
   "execution_count": 81,
   "metadata": {},
   "outputs": [],
   "source": [
    "def stitches_after_decreases(side_stitches, num_decreases=6):\n",
    "    remaining_side_stitches = side_stitches - num_decreases\n",
    "    return remaining_side_stitches"
   ]
  },
  {
   "cell_type": "markdown",
   "metadata": {},
   "source": [
    "#### Sleeve Cast On Number\n",
    "\n",
    "This function returns the number of stitches to cast on for the sleeves. It is based off of the torso measurement, as arm length is more closely correlated to that value than to a chest measurement. \n",
    "\n",
    "It only has 2 possible values, becasue sleeves are a more universal shape across bodies."
   ]
  },
  {
   "cell_type": "code",
   "execution_count": 82,
   "metadata": {},
   "outputs": [],
   "source": [
    "def sleeve_cast_on_amount(garment_torso_measurement):\n",
    "    if garment_torso_measurement < 27.5:\n",
    "        return 45\n",
    "    else:\n",
    "        return 49"
   ]
  },
  {
   "cell_type": "markdown",
   "metadata": {},
   "source": [
    "#### Determining Sleeve Increase Rows\n",
    "\n",
    "The function is determining a set of increases and increments for the sweater based on the finished garment torso measurement. It does this by:\n",
    "Mapping the torso measurement to an index (after subtracting 24). It uses that index to retrieve values from 5 predefined lists of intervals, and returns the corresponding values as a tuple.\n",
    "\n",
    "There are fewer options for the values on the sleeves, becasue of the afformentioned universality across sleeve shapes. The 4 largest sizes and the 2 smallest sizes fit most bodies better, and so continung to increase or decrease size does *not* lead to a better fit.\n"
   ]
  },
  {
   "cell_type": "code",
   "execution_count": 83,
   "metadata": {},
   "outputs": [],
   "source": [
    "def determine_inc_rows(garment_torso_measurement):\n",
    "    intervals_set1 = [10, 10, 8, 6, 6, 6, 6, 4, 4, 4, 4]\n",
    "    intervals_set2 = [3, 3, 5, 15, 13, 9, 3, 24, 24, 24, 24]\n",
    "    intervals_set3 = [8, 8, 6, 4, 4, 4, 4, 0, 0, 0, 0]\n",
    "    intervals_set4 = [8, 8, 9, 1, 4, 10, 19, 0, 0, 0, 0]\n",
    "    intervals_set5 = [69, 69, 75, 79, 85, 89, 95, 99, 99, 99, 99]\n",
    "    \n",
    "    size_index = round(garment_torso_measurement) - 24\n",
    "    size_index = max(0, min(size_index, len(intervals_set1) - 1))\n",
    "    \n",
    "    return (\n",
    "        intervals_set1[size_index],  \n",
    "        intervals_set2[size_index],  \n",
    "        intervals_set3[size_index], \n",
    "        intervals_set4[size_index], \n",
    "        intervals_set5[size_index] \n",
    "    )"
   ]
  },
  {
   "cell_type": "markdown",
   "metadata": {},
   "source": [
    "#### Bind Off For Shoulder Cap Shaping\n",
    "\n",
    "This function maps the torso measurement to an index (after subtracting 24), retrieves the corresponding value from the bind_off_stitches list at that index, and returns the number of stitches to bind off."
   ]
  },
  {
   "cell_type": "code",
   "execution_count": 84,
   "metadata": {},
   "outputs": [],
   "source": [
    "def determine_bind_off_shape_cap(garment_torso_measurement):\n",
    "    bind_off_stitches = [3, 3, 4, 5, 6, 7, 8, 9, 9, 9, 9]\n",
    "    size_index = round(garment_torso_measurement) - 24\n",
    "    size_index = max(0, min(size_index, len(bind_off_stitches) - 1))\n",
    "    bind_off = bind_off_stitches[size_index]\n",
    "    return bind_off"
   ]
  },
  {
   "cell_type": "markdown",
   "metadata": {},
   "source": [
    "#### Stitches Remaining After the First Bind Off\n",
    "This function maps the torso measurement to an index (after subtracting 24), retrieves the corresponding value from the resulting_stitches list at that index, and returns the number of stitches left after the bind off."
   ]
  },
  {
   "cell_type": "code",
   "execution_count": 85,
   "metadata": {},
   "outputs": [],
   "source": [
    "def determine_sts_shape_cap(garment_torso_measurement):\n",
    "    resulting_stitches = [63, 63, 67, 69, 73, 75, 79, 81, 81, 81, 81]\n",
    "    size_index = round(garment_torso_measurement) - 24\n",
    "    size_index = max(0, min(size_index, len(resulting_stitches) - 1))\n",
    "    shape_cap_stitches = resulting_stitches[size_index]\n",
    "    return shape_cap_stitches"
   ]
  },
  {
   "cell_type": "markdown",
   "metadata": {},
   "source": [
    "#### Final Shoulder Cap Shaping Values\n",
    "\n",
    "This function determines the number of final decrease rows to repeat, the final number of stitches remaining after decreases, and the number of stitches that still need to be bound off.\n",
    "\n",
    "It uses the garment's torso measurement (rounded and adjusted) to look up corresponding values in predefined lists."
   ]
  },
  {
   "cell_type": "code",
   "execution_count": 86,
   "metadata": {},
   "outputs": [],
   "source": [
    "def final_shape_cap_dec_and_bindoff(garment_torso_measurement):\n",
    "    repeat_decrease_row = [24, 24, 26, 26, 28, 28, 29, 29, 29, 29, 29]\n",
    "    resulting_stitches_after_decrease = [13, 13, 13, 15, 15, 17, 19, 21, 21, 21, 21]\n",
    "    remaining_stitches_to_bind_off = [9, 9, 9, 11, 11, 13, 15, 17, 17, 17, 17]\n",
    "    size_index = round(garment_torso_measurement) - 24\n",
    "    size_index = max(0, min(size_index, len(repeat_decrease_row) - 1))\n",
    "    cap_repeats = repeat_decrease_row[size_index]\n",
    "    cap_final_stitches = resulting_stitches_after_decrease[size_index]\n",
    "    cap_remaining_bind_off = remaining_stitches_to_bind_off[size_index]\n",
    "    return cap_repeats, cap_final_stitches, cap_remaining_bind_off"
   ]
  },
  {
   "cell_type": "markdown",
   "metadata": {},
   "source": [
    "#### Skeins of Yarn Needed\n",
    "\n",
    "This function returns the skeins of Red Heart Super Saver yarn required for different finsihed chest sizes, because chest sizes map better to overall size than torso length. The values have been determined by practical experience."
   ]
  },
  {
   "cell_type": "code",
   "execution_count": 87,
   "metadata": {},
   "outputs": [],
   "source": [
    "def skeins_of_read_heart_ss(garment_chest_measurement):\n",
    "    skeins = {\n",
    "        32: 4,   \n",
    "        36: 4,   \n",
    "        40: 5,   \n",
    "        44: 5,   \n",
    "        48: 5,   \n",
    "        52: 5,  \n",
    "        56: 6,  \n",
    "        60: 6,  \n",
    "        64: 7,  \n",
    "        68: 7,  \n",
    "        72: 8   \n",
    "    }\n",
    "    \n",
    "    return skeins.get(garment_chest_measurement, 4)"
   ]
  },
  {
   "cell_type": "markdown",
   "metadata": {},
   "source": [
    "### Running the Knitting Pattern\n",
    "\n",
    "The function below contains code for 3 main parts: \n",
    "* Calling the functions designed above\n",
    "* The written text of the pattern\n",
    "* the interactive widget\n",
    "\n",
    "The first section calls the functions which were defined in the above code block. Any stitch counts or decrease values (variables which don't make sense as ints) which were not already ints were converted to such at this step.\n",
    "\n",
    "The second section is the largest, and it is the actual text of the pattern set up in a series of print functions. It is an adaptation and an expansion of a pattern I already had written. Typically, when a pattern with multiple sizes reaches a step where the instructions vary across sizes, the text will look like this:\n",
    "\n",
    "*Bind off 3(4, 5, 6, 7) stitches at the beginning of the next 4 rows*\n",
    "\n",
    "When using that format, the knitter has to remember where in the list the number for their size is. In my generator, every instance where such a list like, the program inserts the knitters individual value which came from their measurements. This was done using formatted string literals. \n",
    "\n",
    "If statements have been inserted into this portion of the code to allow for variation in collar and cuff style.\n",
    "\n",
    "The final section uses the ipywidgets package, and it essentially sets up a user interface within the notebook. It codes for the widget where the knitter inputs their measurements and style preferences into float text boxes and dropdown menus respectively. The text box for chest accepts values from 24 to 67, and the text box for torso accepts values from 16 to 29, both on a 0.1 step. The default values for chest and torso are set to the measurements of the coder. \n",
    "\n",
    "The collar and cuffs dropdown boxes both have the same options: 1x1, Rolled, and Folded. The default for both is 1x1, as that is what I initially wrote in the pattern. \n",
    "\n",
    "The very end of the block is the Interact Manual statement, which makes the whole function run and generate the pattern upon the user clicking the *Run Interact* button.\n",
    "\n",
    "\n"
   ]
  },
  {
   "cell_type": "code",
   "execution_count": 88,
   "metadata": {
    "tags": []
   },
   "outputs": [
    {
     "data": {
      "application/vnd.jupyter.widget-view+json": {
       "model_id": "172b2df9d9504829aede31e474339208",
       "version_major": 2,
       "version_minor": 0
      },
      "text/plain": [
       "interactive(children=(Dropdown(description='Collar:', options=('1x1 rib', 'Rolled', 'Folded'), value='1x1 rib'…"
      ]
     },
     "metadata": {},
     "output_type": "display_data"
    },
    {
     "data": {
      "text/plain": [
       "<function __main__.run_knitting_design(collar, cuffs, chest_circumference, torso_length)>"
      ]
     },
     "execution_count": 88,
     "metadata": {},
     "output_type": "execute_result"
    }
   ],
   "source": [
    "def run_knitting_design(collar, cuffs, chest_circumference, torso_length):\n",
    "\n",
    "    garment_chest_measurement = chest_sizing_output(chest_circumference)\n",
    "    \n",
    "    garment_torso_measurement = torso_sizing_output(torso_length)\n",
    "    \n",
    "    cast_on_stitches = int(back_cast_on_st_ct(garment_chest_measurement))\n",
    "\n",
    "    bind_off_stitches = int(get_bind_off_stitches(garment_chest_measurement))\n",
    "    \n",
    "    stitch_count_after_bind_off = int(get_stitch_count_after_bind_off(cast_on_stitches, bind_off_stitches))\n",
    "\n",
    "    repeat_count = int(determine_repeat_count(garment_chest_measurement))\n",
    "    \n",
    "    remaining_stitches = int(remaining_stitches_after_decreases(stitch_count_after_bind_off, repeat_count))\n",
    "    \n",
    "    armhole_length = armhole_length_after_working_even(garment_torso_measurement)\n",
    "    \n",
    "    first_decrease_amount = int(first_shoulder_bind_off_stitches(garment_chest_measurement))\n",
    "    \n",
    "    remaining_stitches_after_first = int(cast_on_stitches - 2 * first_decrease_amount)\n",
    "    \n",
    "    second_decrease_amount = int(second_shoulder_bind_off_stitches(remaining_stitches_after_first, first_decrease_amount))\n",
    "    \n",
    "    front_armhole = front_armhole_length(armhole_length)\n",
    "\n",
    "    side_stitches = int(stitches_on_each_side_of_markers(remaining_stitches))\n",
    "    \n",
    "    final_side_stitches = int(stitches_after_decreases(side_stitches, num_decreases=6))\n",
    "    \n",
    "    sleeve_cast_on = sleeve_cast_on_amount(garment_torso_measurement)\n",
    "    \n",
    "    shape_cap_bind_off = determine_bind_off_shape_cap(garment_torso_measurement)\n",
    "    \n",
    "    shape_cap_stitches = int(determine_sts_shape_cap(garment_torso_measurement))\n",
    "\n",
    "    sleeve_dec_every_what_row_1, sleeve_how_many_times_1, sleeve_dec_every_what_row_2, sleeve_how_many_times_2, sleeve_how_many_stitches = determine_inc_rows(garment_torso_measurement)\n",
    "    \n",
    "    cap_repeats, cap_final_stitches, cap_remaining_bind_off = final_shape_cap_dec_and_bindoff(garment_torso_measurement)\n",
    "    \n",
    "    skeins = skeins_of_read_heart_ss(garment_chest_measurement)\n",
    "    \n",
    "    print(\"This pattern has been made to your measurements, happy knitting!\")\n",
    "    print( )\n",
    "    print(\"Gauge:\")\n",
    "    print(\"20 stitches and 27 rows = 4 inches sq on larger needles\")\n",
    "    print(\"PLEASE KNIT TENSION SWATCH TO ENSURE PROPER FIT\")\n",
    "    print( )\n",
    "    print(\"Supplies\")\n",
    "    print(f\"Yarn: {skeins} skeins of Red Heart Super Saver\")\n",
    "    print(\"Needles: 5mm circular knitting needles and 4mm circular knitting needles, OR needles required to obtain gauge\")\n",
    "    print(\"Notions: 2 stitch markers, 2 stitch holders, 1 tapestry needle, scissors\")\n",
    "    print( )\n",
    "    print( )\n",
    "    print( )\n",
    "    print(\"Instructions Begin:\")\n",
    "    print( )\n",
    "    print( )\n",
    "    print(\"Back Panel\") \n",
    "    print( )\n",
    "    print( )\n",
    "    print(f\"With the smaller knitting needles, cast on {cast_on_stitches} stitches\")\n",
    "    print( )\n",
    "    print(\"Ribbing Row 1: (Right Side): k1, * p1, k1, rep from * across.\")\n",
    "    print(\"Ribbing Row 2: p1, * k1, p1, rep from * across.\")\n",
    "    print( )\n",
    "    print(\"Repeat these 2 rows until your piece measures 3 inches from the beginning, end on a Wrong Side\")\n",
    "    print( )\n",
    "    print(\"Change to your larger needles and work even in stockinette stitch until the piece measures 17in from the beginning, end on a Wrong Side.\")\n",
    "    print( )\n",
    "    print(f\"Shape Armholes: Bind off {bind_off_stitches} stitches the the beginning of the next 2 rows --- {stitch_count_after_bind_off} stitches\")\n",
    "    print(\"Decrease Row (Right Side): k1, k2tog, knit to last 3 sts, SSK, k1 -— 2 stitches decreased.\")\n",
    "    print( )\n",
    "    print(f\"Repeat the decrease row every Ride Side row {repeat_count} times more --- {remaining_stitches} stitches\")\n",
    "    print( )\n",
    "    print(f\"Work even until the armhole measures {armhole_length} inches. End on a Wrong Side.\")\n",
    "    print( )\n",
    "    print(f\"Shape Shoulders: Bind off {first_decrease_amount} stitches at the beginning of the next 2 rows, then {second_decrease_amount} stitches\")\n",
    "    print(\"at the beginning of the following 4 rows.\")\n",
    "    print( )\n",
    "    print(\"At this point, we are finished with the back panel of the sweater. Slip the remaining 41 stitches onto a stitch holder\")\n",
    "    print(\"or piece of scrap yarn, and secure it for later\")\n",
    "    print( )\n",
    "    print( )\n",
    "    print( )\n",
    "    print(\"Front Panel\")\n",
    "    print( )\n",
    "    print( )\n",
    "    print(f\"The Front panel is worked the same as the back panel until the piece measures {front_armhole} inches,\") \n",
    "    print(f\"end on a Wrong Side --- {remaining_stitches} stitches\")\n",
    "    print( )\n",
    "    print(f\"Mark the center 29 stitches on the last row you worked, with {side_stitches} stitches remaining on either side of your markers\")\n",
    "    print( )\n",
    "    print(f\"Shape Neck (Right Side): On the next row, knit to your first marker. Now slip the {side_stitches} stitches you just\")\n",
    "    print(f\"knit onto a stitch holder or piece of scrap yarn, and secure it for later.\")\n",
    "    print( )\n",
    "    print(f\"Bind off the 29 center stitches and continue knitting to the end --- {side_stitches} stitches.\")\n",
    "    print(\"Wrong Side: p across\")\n",
    "    print(f\"Decrease Row (Right Side): k1, k2tog, knit to end -— 1 stitch decreased.\")\n",
    "    print( )\n",
    "    print(f\"Repeat decrease row 5 times more --- {final_side_stitches} stitches.\")\n",
    "    print( )\n",
    "    print(f\"Work even if necessary until armhole measures {armhole_length} inches, end on a Right Side.\")\n",
    "    print( )\n",
    "    print(f\"Shape Right Shoulder: Bind off {first_decrease_amount} stitches at the beginning of the 1st Wrong Side row.\")\n",
    "    print(f\"Next, bind off {second_decrease_amount} stitches at the beginning of the next 2 Wrong Side rows.\")\n",
    "    print(\"Fasten off.\")\n",
    "    print( )\n",
    "    print( )\n",
    "    print(f\"Left Side: With Wrong Side facing out, slip your {side_stitches} stitches from the holder onto the larger needles.\")\n",
    "    print(\"Join yarn and purl 1 Wrong Side row.\")\n",
    "    print(f\"Decrease Row (Right Side):  Knit to the last 3 sts, SSK, k1 -— 1 stitch decreased.\")\n",
    "    print( )\n",
    "    print(f\"Repeat decrease row every right side 5 times more --- {final_side_stitches} stitches.\")\n",
    "    print( )\n",
    "    print(f\"Work even if necessary until armhole measures {armhole_length} inches\")    \n",
    "    print( )  \n",
    "    print(f\"Shape left Shoulder: Bind off {first_decrease_amount} stitches at the beginning of the first Wrong Side row.\")\n",
    "    print(f\"Next, bind off {second_decrease_amount} stitches at the beginning of the next 2 Wrong Side rows.\")\n",
    "    print(\"Fasten off.\")\n",
    "    print( )\n",
    "    print( )\n",
    "    print( )\n",
    "    print(\"Sleeves\")\n",
    "    print( )\n",
    "    print( )\n",
    "    if cuffs == '1x1 rib':  \n",
    "        print(f\"With your smaller knitting needles, cast on {sleeve_cast_on} stitches.\")\n",
    "        print( )\n",
    "        print(\"Work in 1x1 ribbing as for the back for 3 inches, end on a Wrong Side row.\")\n",
    "        print( )\n",
    "        print(\"Change to your larger needles and work even in stockinette stitch until the sleeve measures 4 inches from the\")\n",
    "        print(\"beginning, end on a Wrong Side.\")\n",
    "    elif cuffs == 'Folded':\n",
    "        print(f\"With your smaller knitting needles, cast on {sleeve_cast_on} stitches.\")\n",
    "        print( )\n",
    "        print(\"Work in 1x1 ribbing as for the back for 6 inches, end on a Wrong Side row.\")\n",
    "        print( )\n",
    "        print(\"Once you have 6 inches of ribbing, flip up only the bottom of your work so that the Wrong Side is flush with\")\n",
    "        print(\"the Right Side that you are knitting on. Next, pick up and knit the corresponding bottom stitch (from your cast on).\")\n",
    "        print(\"This is your next row. Instead of knitting just your 1x1 ribbing stitches you just made, you are knitting those\")\n",
    "        print(\"stitches PLUS your first row stitches together. This forms the 'fold' of your folded cuff.\")\n",
    "        print(\"purl one more row across (Wrong Side).\")\n",
    "        print( )\n",
    "        print(\"Change to your larger needles and work even in stockinette stitch until the sleeve measures 4 inches from the\")\n",
    "        print(\"beginning, end on a Wrong Side.\")\n",
    "    else: \n",
    "        print(f\"With your larger knitting needles, cast on {sleeve_cast_on} stitches.\")\n",
    "        print( )\n",
    "        print(\"work in stockinette for 3 inches, end on a Wrong Side row\")\n",
    "    print( )\n",
    "    print(f\"Increase Row (Right Side): k1, M1R, k to last st, M1L, k1 -— 2 stitchs increased.\")\n",
    "    print( )\n",
    "    print(f\"Repeat increase row every { sleeve_dec_every_what_row_1}th row {sleeve_how_many_times_1} times, then every {sleeve_dec_every_what_row_2}th row {sleeve_how_many_times_2}\")\n",
    "    print(f\"times --- {sleeve_how_many_stitches} stitches.\")\n",
    "    print( )\n",
    "    print(\"Work even until the sleeve measures 19 inches from the beginning, end on a Wrong Side.\")\n",
    "    print( )\n",
    "    print(f\"Shape Cap: Bind off {shape_cap_bind_off} stitches at the beginning of the nest 2 rows --- {shape_cap_stitches} stitches.\")\n",
    "    print( )\n",
    "    print(f\"Decrease Row (Right Side):  k1, k2tog, k to last 3 sts, SSK, k1 -— 2 stitches decreased.\")\n",
    "    print( )\n",
    "    print(f\"Repeat decrease row every Right Side row {cap_repeats} times more, end on a Wrong Side --- {cap_final_stitches} stitches.\")\n",
    "    print( )\n",
    "    print(\"Bind off 2 stitches at the beginning of the next 2 rows.\")\n",
    "    print( )\n",
    "    print(f\"Bind off the remaining {cap_remaining_bind_off} stitches.\")\n",
    "    print( )\n",
    "    print( )\n",
    "    print(\"Make 2\")\n",
    "    print( )\n",
    "    print( )\n",
    "    print( )\n",
    "    print(\"Finishing\")\n",
    "    print( )\n",
    "    print( )\n",
    "    print(\"Sew the shoulder seams of front and back panels\")\n",
    "    print( )\n",
    "    print(\"Collar\")\n",
    "    print( )\n",
    "    print(\"Start with the right side facing out. Using the smaller circular needles and beginning at the left shoulder\")\n",
    "    print(\"seam, pick up and knit 15 stitches along the left front neck edge, 29 stitches across the center front neck edge,\")\n",
    "    print(\"15 stitches along the right front neck edge, then knit the 41 stitches off of the back stitch holder. --- 100 stitches.\")\n",
    "    print( )\n",
    "    print(\"Place marker and join for working in the round.\")\n",
    "    print( )\n",
    "    if collar == '1x1 rib':\n",
    "        print(\"Ribbing: *k1, p1 repeat from * around.\")\n",
    "        print( )\n",
    "        print(\"Work in 1x1 ribbing until length of ribbing equals 1.5 inches, then use a stretchy bind off to finish.\")\n",
    "    elif collar == 'Folded':\n",
    "        print(\"Ribbing: *k1, p1 repeat from * around.\")\n",
    "        print( )\n",
    "        print(\"Work in 1x1 ribbing until length of ribbing equals 4 inches.\")\n",
    "        print( )\n",
    "        print(\"Once you have 4 inches of ribbing, maneuver your work so that the Wrong Side is flush with the Right Side that\")\n",
    "        print(\"you are knitting on. Next, pick up and knit the corresponding bottom stitch (from your join).\")\n",
    "        print(\"This is your next row. Instead of knitting just your 1x1 ribbing stitches you just made, you are knitting those\")\n",
    "        print(\"stitches PLUS your first row stitches together. This forms the 'fold' of your folded collar.\")\n",
    "        print(\"Purl one more row across.\")\n",
    "        print( )\n",
    "        print(\"Bind off\")\n",
    "    else:\n",
    "        print(\"Knit every round until collar measures 2.5 inches.\")\n",
    "        print( )\n",
    "        print(\"Bind off\")\n",
    "    print( )\n",
    "    print(\"Sew in sleeves.\")\n",
    "    print( )\n",
    "    print(\"Sew side and sleeve seams.\")\n",
    "    print( )\n",
    "    print(\"Weave in all ends and block as desired.\")\n",
    "          \n",
    "collar_options = ['1x1 rib', 'Rolled', 'Folded']\n",
    "collar_dropdown = widgets.Dropdown(\n",
    "    options=collar_options,\n",
    "    value=collar_options[0],\n",
    "    description='Collar:',\n",
    ")\n",
    "\n",
    "cuffs_options = ['1x1 rib', 'Rolled', 'Folded']\n",
    "cuffs_dropdown = widgets.Dropdown(\n",
    "    options=cuffs_options,\n",
    "    value=cuffs_options[0],\n",
    "    description='Cuffs:',\n",
    ")\n",
    "\n",
    "chest_circumference_input = widgets.FloatText(\n",
    "    value=43,\n",
    "    min=24.0,\n",
    "    max=67.0,\n",
    "    step=0.1,\n",
    "    description='Chest Circumference:',\n",
    "    disabled=False\n",
    ")\n",
    "\n",
    "torso_length_input = widgets.FloatText(\n",
    "    value=23.5,\n",
    "    min=16.0,\n",
    "    max=29.0,\n",
    "    step=0.1,\n",
    "    description='Torso Length:',\n",
    "    disabled=False\n",
    ")\n",
    "\n",
    "interact_manual(run_knitting_design, \n",
    "                collar=collar_dropdown, \n",
    "                cuffs=cuffs_dropdown, \n",
    "                chest_circumference=chest_circumference_input, \n",
    "                torso_length=torso_length_input)"
   ]
  },
  {
   "cell_type": "markdown",
   "metadata": {},
   "source": [
    "# Related Internet Resources\n",
    "\n",
    "1. This site gave instructions for how to code my interactive widget and it was the most important to me for this project [Using Interact](https://ipywidgets.readthedocs.io/en/8.1.5/examples/Using%20Interact.html).\n",
    "2. I also frequently (Constantly) referenced [Python Tutorial](https://docs.python.org/3/tutorial/index.html)\n",
    "3. Here is a site that contains documentation for our main [blah blah package](https://us.prairielearn.com/pl/course_instance/137200/instructor/question/9076129/preview)\n",
    "4. [This site](https://www.stitchfiddle.com/en) Calls itself a knitting pattern generator, but it only allows users to make pixel-art style grid charts for colorwork. My program produces a written pattern."
   ]
  }
 ],
 "metadata": {
  "kernelspec": {
   "display_name": "Python 3 (ipykernel)",
   "language": "python",
   "name": "python3"
  },
  "language_info": {
   "codemirror_mode": {
    "name": "ipython",
    "version": 3
   },
   "file_extension": ".py",
   "mimetype": "text/x-python",
   "name": "python",
   "nbconvert_exporter": "python",
   "pygments_lexer": "ipython3",
   "version": "3.10.8"
  }
 },
 "nbformat": 4,
 "nbformat_minor": 4
}
